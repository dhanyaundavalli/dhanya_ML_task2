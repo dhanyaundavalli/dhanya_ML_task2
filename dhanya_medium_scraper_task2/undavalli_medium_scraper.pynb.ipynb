{
 "cells": [
  {
   "cell_type": "markdown",
   "id": "30ca4b52",
   "metadata": {},
   "source": [
    "# Task 2: Web Scraping Medium Article\n",
    "This notebook replicates the Python script from Task 1, which extracts text content from a Medium article using web scraping."
   ]
  },
  {
   "cell_type": "code",
   "execution_count": null,
   "id": "f5e72438",
   "metadata": {},
   "outputs": [],
   "source": [
    "import os\n",
    "import re\n",
    "import requests\n",
    "from bs4 import BeautifulSoup"
   ]
  },
  {
   "cell_type": "markdown",
   "id": "35fb4075",
   "metadata": {},
   "source": [
    "## Function to Get Medium Article HTML"
   ]
  },
  {
   "cell_type": "code",
   "execution_count": null,
   "id": "f1b2a998",
   "metadata": {},
   "outputs": [],
   "source": [
    "def get_medium_article(url):\n",
    "    if not re.match(r'https?://medium.com/', url):\n",
    "        raise ValueError(\"Invalid Medium URL\")\n",
    "\n",
    "    response = requests.get(url)\n",
    "    response.raise_for_status()\n",
    "    return response.text"
   ]
  },
  {
   "cell_type": "markdown",
   "id": "c08ed634",
   "metadata": {},
   "source": [
    "## Function to Extract Text from HTML"
   ]
  },
  {
   "cell_type": "code",
   "execution_count": null,
   "id": "e986007b",
   "metadata": {},
   "outputs": [],
   "source": [
    "def extract_text_from_html(html):\n",
    "    soup = BeautifulSoup(html, 'html.parser')\n",
    "    paragraphs = soup.find_all('p')\n",
    "    text_content = [p.get_text(strip=True) for p in paragraphs]\n",
    "    return \"\\n\\n\".join(text_content)"
   ]
  },
  {
   "cell_type": "markdown",
   "id": "043384a6",
   "metadata": {},
   "source": [
    "## Function to Save Extracted Text to a File"
   ]
  },
  {
   "cell_type": "code",
   "execution_count": null,
   "id": "13c7f79d",
   "metadata": {},
   "outputs": [],
   "source": [
    "def save_to_file(text):\n",
    "    downloads_path = os.path.expanduser(\"~/Downloads\")\n",
    "    filename = \"Rajes_neural_network_article.txt\"\n",
    "    filepath = os.path.join(downloads_path, filename)\n",
    "\n",
    "    with open(filepath, 'w', encoding='utf-8') as f:\n",
    "        f.write(text)\n",
    "\n",
    "    print(f\"Article saved to {filepath}\")"
   ]
  },
  {
   "cell_type": "markdown",
   "id": "57e917b9",
   "metadata": {},
   "source": [
    "## Run the Main Flow (URL can be set manually here)"
   ]
  },
  {
   "cell_type": "code",
   "execution_count": null,
   "id": "75217cd1",
   "metadata": {},
   "outputs": [],
   "source": [
    "# Example usage (replace with a real Medium article URL):\n",
    "url = 'https://medium.com/your-article-url'\n",
    "try:\n",
    "    html = get_medium_article(url)\n",
    "    article_text = extract_text_from_html(html)\n",
    "    save_to_file(article_text)\n",
    "except Exception as e:\n",
    "    print(f\"Error: {e}\")"
   ]
  },
  {
   "cell_type": "markdown",
   "id": "5378e9cf",
   "metadata": {},
   "source": [
    "### Notes:\n",
    "- This notebook version removes the `input()` function for automation.\n",
    "- You must manually set a Medium article URL in the code to test it."
   ]
  }
 ],
 "metadata": {
  "language_info": {
   "name": "python"
  }
 },
 "nbformat": 4,
 "nbformat_minor": 5
}
